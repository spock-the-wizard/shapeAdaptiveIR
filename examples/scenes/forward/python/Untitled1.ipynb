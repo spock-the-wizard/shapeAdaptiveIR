{
 "cells": [
  {
   "cell_type": "code",
   "execution_count": 1,
   "id": "e2f49618-ca29-4ac7-ab3c-5f1e93884b2d",
   "metadata": {},
   "outputs": [
    {
     "name": "stdout",
     "output_type": "stream",
     "text": [
      "\u001b[93m[mitsuba] Warning: Couldn't import the ipywidgets package. Installing this package is required for the system to properly log messages and print in Jupyter notebooks!\n"
     ]
    }
   ],
   "source": [
    "import mitsuba as mi\n",
    "\n",
    "mi.set_variant('scalar_rgb')"
   ]
  },
  {
   "cell_type": "code",
   "execution_count": null,
   "id": "dd1db0b6-cdb4-40cf-b8cc-69c57718ecff",
   "metadata": {},
   "outputs": [],
   "source": [
    "bmp = mi.Bitmap('../examples')\n"
   ]
  }
 ],
 "metadata": {
  "kernelspec": {
   "display_name": "mi3",
   "language": "python",
   "name": "mi3"
  },
  "language_info": {
   "codemirror_mode": {
    "name": "ipython",
    "version": 3
   },
   "file_extension": ".py",
   "mimetype": "text/x-python",
   "name": "python",
   "nbconvert_exporter": "python",
   "pygments_lexer": "ipython3",
   "version": "3.8.10"
  }
 },
 "nbformat": 4,
 "nbformat_minor": 5
}
