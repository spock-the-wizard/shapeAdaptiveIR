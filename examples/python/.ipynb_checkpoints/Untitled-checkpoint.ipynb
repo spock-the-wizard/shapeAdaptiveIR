{
 "cells": [
  {
   "cell_type": "code",
   "execution_count": 12,
   "id": "6904d9dd-e14d-4d23-87cd-c2d6e2472cf5",
   "metadata": {},
   "outputs": [],
   "source": [
    "channelR = \"../../data_kiwi_soap/results/duck/duck/test_channelR_2/iter_1.exr\"\n",
    "channelG = \"../../data_kiwi_soap/results/duck/duck/test_channelG_2/iter_1.exr\"\n",
    "channelB = \"../../data_kiwi_soap/results/duck/test_channelB_2/iter_1.exr\""
   ]
  },
  {
   "cell_type": "code",
   "execution_count": 2,
   "id": "36db433c-e6a5-46a9-a628-d0aef4374fe8",
   "metadata": {},
   "outputs": [
    {
     "name": "stdout",
     "output_type": "stream",
     "text": [
      "\u001b[93m[mitsuba] Warning: Couldn't import the ipywidgets package. Installing this package is required for the system to properly log messages and print in Jupyter notebooks!\n"
     ]
    }
   ],
   "source": [
    "import mitsuba as mi\n",
    "\n",
    "mi.set_variant('scalar_rgb')"
   ]
  },
  {
   "cell_type": "code",
   "execution_count": 13,
   "id": "de635883-a6a1-47ec-9a31-a3294a4fc96a",
   "metadata": {},
   "outputs": [],
   "source": [
    "tmp = mi.Bitmap(channelR)\n",
    "\n",
    "import numpy as np\n",
    "R = np.array(tmp)\n",
    "G = np.array(mi.Bitmap(channelG))\n",
    "\n",
    "B = np.array(mi.Bitmap(channelB))"
   ]
  },
  {
   "cell_type": "code",
   "execution_count": 21,
   "id": "c276fd35-f2ad-4f90-b921-3bac66a5b318",
   "metadata": {},
   "outputs": [
    {
     "ename": "AttributeError",
     "evalue": "module 'numpy' has no attribute 'concat'",
     "output_type": "error",
     "traceback": [
      "\u001b[0;31m---------------------------------------------------------------------------\u001b[0m",
      "\u001b[0;31mAttributeError\u001b[0m                            Traceback (most recent call last)",
      "Cell \u001b[0;32mIn[21], line 1\u001b[0m\n\u001b[0;32m----> 1\u001b[0m np\u001b[38;5;241m.\u001b[39mconcat(R[:\u001b[38;5;241m512\u001b[39m,:,\u001b[38;5;241m0\u001b[39m],G[:\u001b[38;5;241m512\u001b[39m,:,\u001b[38;5;241m1\u001b[39m],B[:\u001b[38;5;241m512\u001b[39m,:,\u001b[38;5;241m2\u001b[39m])\n",
      "File \u001b[0;32m~/anaconda3/envs/mi3/lib/python3.11/site-packages/numpy/__init__.py:322\u001b[0m, in \u001b[0;36m__getattr__\u001b[0;34m(attr)\u001b[0m\n\u001b[1;32m    319\u001b[0m     \u001b[38;5;124m\"\u001b[39m\u001b[38;5;124mRemoved in NumPy 1.25.0\u001b[39m\u001b[38;5;124m\"\u001b[39m\n\u001b[1;32m    320\u001b[0m     \u001b[38;5;28;01mraise\u001b[39;00m \u001b[38;5;167;01mRuntimeError\u001b[39;00m(\u001b[38;5;124m\"\u001b[39m\u001b[38;5;124mTester was removed in NumPy 1.25.\u001b[39m\u001b[38;5;124m\"\u001b[39m)\n\u001b[0;32m--> 322\u001b[0m \u001b[38;5;28;01mraise\u001b[39;00m \u001b[38;5;167;01mAttributeError\u001b[39;00m(\u001b[38;5;124m\"\u001b[39m\u001b[38;5;124mmodule \u001b[39m\u001b[38;5;132;01m{!r}\u001b[39;00m\u001b[38;5;124m has no attribute \u001b[39m\u001b[38;5;124m\"\u001b[39m\n\u001b[1;32m    323\u001b[0m                      \u001b[38;5;124m\"\u001b[39m\u001b[38;5;132;01m{!r}\u001b[39;00m\u001b[38;5;124m\"\u001b[39m\u001b[38;5;241m.\u001b[39mformat(\u001b[38;5;18m__name__\u001b[39m, attr))\n",
      "\u001b[0;31mAttributeError\u001b[0m: module 'numpy' has no attribute 'concat'"
     ]
    }
   ],
   "source": [
    "rgb = np.concatenate(R[:512,:,0],G[:512,:,1],B[:512,:,2])\n",
    "rgb = "
   ]
  }
 ],
 "metadata": {
  "kernelspec": {
   "display_name": "Python [conda env:mi3]",
   "language": "python",
   "name": "conda-env-mi3-py"
  },
  "language_info": {
   "codemirror_mode": {
    "name": "ipython",
    "version": 3
   },
   "file_extension": ".py",
   "mimetype": "text/x-python",
   "name": "python",
   "nbconvert_exporter": "python",
   "pygments_lexer": "ipython3",
   "version": "3.11.3"
  }
 },
 "nbformat": 4,
 "nbformat_minor": 5
}
